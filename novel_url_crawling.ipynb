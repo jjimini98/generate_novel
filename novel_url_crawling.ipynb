{
 "cells": [
  {
   "cell_type": "code",
   "execution_count": 1,
   "metadata": {},
   "outputs": [
    {
     "name": "stderr",
     "output_type": "stream",
     "text": [
      "/home/test/.local/lib/python3.10/site-packages/tqdm/auto.py:21: TqdmWarning: IProgress not found. Please update jupyter and ipywidgets. See https://ipywidgets.readthedocs.io/en/stable/user_install.html\n",
      "  from .autonotebook import tqdm as notebook_tqdm\n"
     ]
    },
    {
     "data": {
      "text/plain": [
       "True"
      ]
     },
     "execution_count": 1,
     "metadata": {},
     "output_type": "execute_result"
    }
   ],
   "source": [
    "import os\n",
    "import datetime as dt\n",
    "import requests\n",
    "from bs4 import BeautifulSoup\n",
    "from tqdm.auto import tqdm \n",
    "from dotenv import load_dotenv\n",
    "import pymongo\n",
    "load_dotenv(verbose=True)"
   ]
  },
  {
   "cell_type": "code",
   "execution_count": 6,
   "metadata": {},
   "outputs": [],
   "source": [
    "IP = os.getenv(\"IP\")\n",
    "PORT = os.getenv(\"PORT\")\n",
    "DATABASE = os.getenv(\"DATABASE\")\n",
    "COL = os.getenv(\"COLLECTION\")"
   ]
  },
  {
   "cell_type": "code",
   "execution_count": 7,
   "metadata": {},
   "outputs": [],
   "source": [
    "conn = pymongo.MongoClient(\"mongodb://{}:{}\".format(IP,PORT))\n",
    "db = conn[DATABASE]\n",
    "col = db[COL]"
   ]
  },
  {
   "cell_type": "code",
   "execution_count": 12,
   "metadata": {},
   "outputs": [
    {
     "name": "stderr",
     "output_type": "stream",
     "text": [
      "  2%|▏         | 1/64 [00:00<00:15,  3.99it/s]"
     ]
    },
    {
     "name": "stdout",
     "output_type": "stream",
     "text": [
      "info :  물 속의 아이 status : FINISHED\n",
      "info :  고질라 씨 문방구 status : FINISHED\n",
      "info :  상처 status : FINISHED\n",
      "info :  그들만의 세상 status : FINISHED\n",
      "info :  밤의 공사 status : FINISHED\n",
      "info :  너의 형에게 말해야겠다 status : FINISHED\n",
      "info :  문상 status : FINISHED\n"
     ]
    },
    {
     "name": "stderr",
     "output_type": "stream",
     "text": [
      "  3%|▎         | 2/64 [00:00<00:15,  4.01it/s]"
     ]
    },
    {
     "name": "stdout",
     "output_type": "stream",
     "text": [
      "info :  먹이사슬 status : FINISHED\n",
      "info :  아디오스 탱고 status : FINISHED\n",
      "info :  꽃내음 길 status : FINISHED\n",
      "info :  근무일지- The Police Story No. 1 status : FINISHED\n",
      "info :  고모의 사진 status : FINISHED\n",
      "info :  나무화석 status : FINISHED\n",
      "info :  유리와 모리 status : FINISHED\n",
      "info :  얘들아 나오너라, 달맞이 가자 status : FINISHED\n",
      "info :  걸레가 있었어요 status : FINISHED\n",
      "info :  지중해의 노래 status : FINISHED\n",
      "info :  골목길 포에버 status : FINISHED\n",
      "info :  먼 하루 status : FINISHED\n"
     ]
    },
    {
     "name": "stderr",
     "output_type": "stream",
     "text": [
      "  5%|▍         | 3/64 [00:00<00:15,  3.94it/s]"
     ]
    },
    {
     "name": "stdout",
     "output_type": "stream",
     "text": [
      "info :  일주일 status : FINISHED\n",
      "info :  엑스 존 status : FINISHED\n",
      "info :  유인 김소희전 status : FINISHED\n",
      "info :  홍콩발 e메일 status : FINISHED\n",
      "info :  연못 속에는 인어가 status : FINISHED\n",
      "info :  폐허와 빈 곳 status : FINISHED\n",
      "info :  매뉴얼 제너레이션 status : FINISHED\n",
      "info :  사과와 적포도주가 있는 테이블 status : FINISHED\n",
      "info :  달을 잃어버린 아이,들1 status : FINISHED\n",
      "info :  외식 status : FINISHED\n",
      "info :  모기씨 status : FINISHED\n",
      "info :  손바닥과 손등과 손 status : FINISHED\n"
     ]
    },
    {
     "name": "stderr",
     "output_type": "stream",
     "text": [
      "  6%|▋         | 4/64 [00:01<00:15,  3.91it/s]"
     ]
    },
    {
     "name": "stdout",
     "output_type": "stream",
     "text": [
      "info :  늙고도 늙은 팥죽집 여자 status : FINISHED\n",
      "info :  집게와 말미잘 status : FINISHED\n",
      "info :  클레멘타인 status : FINISHED\n",
      "info :  경국지색 status : FINISHED\n",
      "info :  깍두기 status : FINISHED\n",
      "info :  츄파춥스 status : FINISHED\n",
      "info :  외계로 사라질 테다 status : FINISHED\n",
      "info :  굶주린 사랑 status : FINISHED\n",
      "info :  전생으로 가는 길에 대한 안내 status : FINISHED\n",
      "info :  물 마시러 갑니다 status : FINISHED\n",
      "info :  겨울 잡부 status : FINISHED\n",
      "info :  어느 거리의 우수와 신비 status : FINISHED\n"
     ]
    },
    {
     "name": "stderr",
     "output_type": "stream",
     "text": [
      "  8%|▊         | 5/64 [00:01<00:15,  3.86it/s]"
     ]
    },
    {
     "name": "stdout",
     "output_type": "stream",
     "text": [
      "info :  지독한 우정 status : FINISHED\n",
      "info :  달을 향하여 status : FINISHED\n",
      "info :  입안의 송곳 status : FINISHED\n",
      "info :  망 status : FINISHED\n",
      "info :  화분 status : FINISHED\n",
      "info :  말들이 내게로 걸어왔다 status : FINISHED\n",
      "info :  나를 잃다 status : FINISHED\n",
      "info :  은행 강도 status : FINISHED\n",
      "info :  매직글라스 status : FINISHED\n",
      "info :  담배 한 대 status : FINISHED\n",
      "info :  실러캔스 status : FINISHED\n",
      "info :  차라리, 사랑 status : FINISHED\n"
     ]
    },
    {
     "name": "stderr",
     "output_type": "stream",
     "text": [
      "  9%|▉         | 6/64 [00:01<00:15,  3.67it/s]"
     ]
    },
    {
     "name": "stdout",
     "output_type": "stream",
     "text": [
      "info :  개, 새끼 이야기 status : FINISHED\n",
      "info :  삼도노인회 제주여행기 status : FINISHED\n",
      "info :  여의도 저공비행 status : FINISHED\n",
      "info :  부시가 된 소년 status : FINISHED\n",
      "info :  지도에 없는 status : FINISHED\n",
      "info :  아내의 이구아나 status : FINISHED\n",
      "info :  쓸모있으십니까 status : FINISHED\n",
      "info :  노적가리 판타지 status : FINISHED\n",
      "info :  골목의 아이 status : FINISHED\n",
      "info :  에쿠우스(EQUUS)! status : FINISHED\n",
      "info :  사푼차 마을로 가는 길 status : FINISHED\n",
      "info :  어떤 사소한 이야기 status : FINISHED\n"
     ]
    },
    {
     "name": "stderr",
     "output_type": "stream",
     "text": [
      " 11%|█         | 7/64 [00:01<00:15,  3.78it/s]"
     ]
    },
    {
     "name": "stdout",
     "output_type": "stream",
     "text": [
      "info :  와인 한 상자 status : FINISHED\n",
      "info :  눈빛 status : FINISHED\n",
      "info :  귀비(楊貴妃), 배꽃에 지다 status : FINISHED\n",
      "info :  매듭 status : FINISHED\n",
      "info :  오래된 입덧 status : FINISHED\n",
      "info :  물색환 status : FINISHED\n",
      "info :  거룩한 발가락 status : FINISHED\n",
      "info :  고산병 입문 status : FINISHED\n",
      "info :  남은 해도 되지만 내가 하면 안 되는 것들의 목록 status : FINISHED\n",
      "info :  고모들 status : FINISHED\n",
      "info :  999 status : FINISHED\n",
      "info :  오후 status : FINISHED\n"
     ]
    },
    {
     "name": "stderr",
     "output_type": "stream",
     "text": [
      " 12%|█▎        | 8/64 [00:02<00:14,  3.88it/s]"
     ]
    },
    {
     "name": "stdout",
     "output_type": "stream",
     "text": [
      "info :  누가 죽었어요? status : FINISHED\n",
      "info :  몽타주 status : FINISHED\n",
      "info :  L의 이야기 status : FINISHED\n",
      "info :  산란탑 status : FINISHED\n",
      "info :  너는 언제 외로우냐? status : FINISHED\n",
      "info :  아빠, 유령, 문법 status : FINISHED\n",
      "info :  일기를 쓰는 이유 status : FINISHED\n",
      "info :  새의 목소리 status : FINISHED\n",
      "info :  댄스댄스 status : FINISHED\n",
      "info :  미필적 고의에 대한 보고서 status : FINISHED\n",
      "info :  킬리만자로의 눈[目] status : FINISHED\n",
      "info :  개밥바라기 status : FINISHED\n"
     ]
    },
    {
     "name": "stderr",
     "output_type": "stream",
     "text": [
      " 14%|█▍        | 9/64 [00:02<00:14,  3.89it/s]"
     ]
    },
    {
     "name": "stdout",
     "output_type": "stream",
     "text": [
      "info :  문단속을 제대로 하지 않으면 status : FINISHED\n",
      "info :  퍼플레인 status : FINISHED\n",
      "info :  아리의 블루베리 케이크 status : FINISHED\n",
      "info :  공정거래를 위한 지침서 status : FINISHED\n",
      "info :  가족사진 status : FINISHED\n",
      "info :  겨울, 압록강 status : FINISHED\n",
      "info :  타인들의 타인 status : FINISHED\n",
      "info :  테러리스트들 status : FINISHED\n",
      "info :  정사 status : FINISHED\n",
      "info :  밖으로 들어가고 안으로 나가는 방법에 대한 고찰 status : FINISHED\n",
      "info :  미나리꽝 status : FINISHED\n",
      "info :  흑문조 status : FINISHED\n"
     ]
    },
    {
     "name": "stderr",
     "output_type": "stream",
     "text": [
      " 16%|█▌        | 10/64 [00:02<00:13,  3.93it/s]"
     ]
    },
    {
     "name": "stdout",
     "output_type": "stream",
     "text": [
      "info :  목격자 status : FINISHED\n",
      "info :  자전거 status : FINISHED\n",
      "info :  화이트아웃 status : FINISHED\n",
      "info :  침묵 status : FINISHED\n",
      "info :  공공의 적―게으름을 죽여라 status : FINISHED\n",
      "info :  산 너머 남촌에는 status : FINISHED\n",
      "info :  연애왕 C status : FINISHED\n",
      "info :  불빛을 보며 걷는다 status : FINISHED\n",
      "info :  우리 집 status : FINISHED\n",
      "info :  Delete status : FINISHED\n",
      "info :  첫사랑 status : FINISHED\n",
      "info :  자오에게 status : FINISHED\n"
     ]
    },
    {
     "name": "stderr",
     "output_type": "stream",
     "text": [
      " 17%|█▋        | 11/64 [00:02<00:13,  3.95it/s]"
     ]
    },
    {
     "name": "stdout",
     "output_type": "stream",
     "text": [
      "info :  장호는 맛있다 status : FINISHED\n",
      "info :  나무가 사라졌다 status : FINISHED\n",
      "info :  미궁과 미로 status : FINISHED\n",
      "info :  줄넘기 status : FINISHED\n",
      "info :  아! 세라 (ah! sherah) status : FINISHED\n",
      "info :  능소화 status : FINISHED\n",
      "info :  시선 status : FINISHED\n",
      "info :  타임캡슐 1994 status : FINISHED\n",
      "info :  너와 나의 도서관 status : FINISHED\n",
      "info :  빛나는 스타 status : FINISHED\n",
      "info :  파리증후군 status : FINISHED\n",
      "info :  새터마을 마이크 status : FINISHED\n"
     ]
    },
    {
     "name": "stderr",
     "output_type": "stream",
     "text": [
      " 19%|█▉        | 12/64 [00:03<00:13,  3.98it/s]"
     ]
    },
    {
     "name": "stdout",
     "output_type": "stream",
     "text": [
      "info :  살인자, 여자들의 희망 2009 status : FINISHED\n",
      "info :  젖 · 몸 · 살 status : FINISHED\n",
      "info :  크리스마스에는 훌라를-장편연재 2회 status : FINISHED\n",
      "info :  국수 status : FINISHED\n",
      "info :  나는 달리다 status : FINISHED\n",
      "info :  크리스마스에는 훌라를-장편연재 1회 status : FINISHED\n",
      "info :  연재를 시작하며 status : FINISHED\n",
      "info :  현기증 status : FINISHED\n",
      "info :  크리스마스 캐럴을 불러 보아요 status : FINISHED\n",
      "info :  약국이 어디에요 status : FINISHED\n",
      "info :  아직, 아직은 status : FINISHED\n"
     ]
    },
    {
     "name": "stderr",
     "output_type": "stream",
     "text": [
      " 20%|██        | 13/64 [00:03<00:12,  4.04it/s]"
     ]
    },
    {
     "name": "stdout",
     "output_type": "stream",
     "text": [
      "info :  고요한 밤  거룩한 밤 status : FINISHED\n",
      "info :  밤 status : FINISHED\n",
      "info :  애린 status : FINISHED\n"
     ]
    },
    {
     "name": "stderr",
     "output_type": "stream",
     "text": [
      " 22%|██▏       | 14/64 [00:03<00:13,  3.84it/s]"
     ]
    },
    {
     "name": "stdout",
     "output_type": "stream",
     "text": [
      "info :  지뢰 유실 구역 status : FINISHED\n",
      "info :  냉면을 용서하라 status : FINISHED\n",
      "info :  국민 의연금 납부사 status : FINISHED\n",
      "info :  자소상(自塑像) status : FINISHED\n"
     ]
    },
    {
     "name": "stderr",
     "output_type": "stream",
     "text": [
      " 23%|██▎       | 15/64 [00:03<00:12,  3.89it/s]"
     ]
    },
    {
     "name": "stdout",
     "output_type": "stream",
     "text": [
      "info :  하구 사람들 status : FINISHED\n",
      "info :  오르골 판타지아 status : FINISHED\n",
      "info :  4차선 status : FINISHED\n",
      "info :  두껍아, 두껍아 status : FINISHED\n",
      "info :  보랏빛 소묘 status : FINISHED\n"
     ]
    },
    {
     "name": "stderr",
     "output_type": "stream",
     "text": [
      " 25%|██▌       | 16/64 [00:04<00:12,  3.93it/s]"
     ]
    },
    {
     "name": "stdout",
     "output_type": "stream",
     "text": [
      "info :  고목들 status : FINISHED\n",
      "info :  거미의 집 status : FINISHED\n",
      "info :  장난하냐, 장난해 status : FINISHED\n",
      "info :  깊은 인연 status : FINISHED\n",
      "info :  깨끗한 여자 status : FINISHED\n",
      "info :  분실신고 status : FINISHED\n",
      "info :  야식 status : FINISHED\n",
      "info :  잉어 status : FINISHED\n",
      "info :  회전목마 안으로 걸어가다 status : FINISHED\n"
     ]
    },
    {
     "name": "stderr",
     "output_type": "stream",
     "text": [
      " 27%|██▋       | 17/64 [00:04<00:11,  3.93it/s]"
     ]
    },
    {
     "name": "stdout",
     "output_type": "stream",
     "text": [
      "info :  손가락을 세워라 status : FINISHED\n",
      "info :  우리들의 마감시간 status : FINISHED\n",
      "info :  물그림 엄마 status : FINISHED\n",
      "info :  안내자 status : FINISHED\n",
      "info :  클럽 블랙씨 status : FINISHED\n"
     ]
    },
    {
     "name": "stderr",
     "output_type": "stream",
     "text": [
      " 28%|██▊       | 18/64 [00:04<00:11,  3.96it/s]"
     ]
    },
    {
     "name": "stdout",
     "output_type": "stream",
     "text": [
      "info :  꼬리총 status : FINISHED\n",
      "info :  소라고둥 공화국 status : FINISHED\n"
     ]
    },
    {
     "name": "stderr",
     "output_type": "stream",
     "text": [
      " 30%|██▉       | 19/64 [00:04<00:11,  3.93it/s]"
     ]
    },
    {
     "name": "stdout",
     "output_type": "stream",
     "text": [
      "info :  하루의 인생 status : FINISHED\n",
      "info :  도그 워커(dog walker) status : FINISHED\n",
      "info :  쇼브라더스 베이비 status : FINISHED\n",
      "info :  혀 없는 이야기 status : FINISHED\n",
      "info :  혀 없는 이야기 status : FINISHED\n",
      "info :  하루살이(들) status : FINISHED\n"
     ]
    },
    {
     "name": "stderr",
     "output_type": "stream",
     "text": [
      " 31%|███▏      | 20/64 [00:05<00:11,  3.98it/s]"
     ]
    },
    {
     "name": "stdout",
     "output_type": "stream",
     "text": [
      "info :  전원주택 status : FINISHED\n",
      "info :  푸른 여로 status : FINISHED\n",
      "info :  물보라 status : FINISHED\n"
     ]
    },
    {
     "name": "stderr",
     "output_type": "stream",
     "text": [
      " 33%|███▎      | 21/64 [00:05<00:10,  3.97it/s]"
     ]
    },
    {
     "name": "stdout",
     "output_type": "stream",
     "text": [
      "info :  화분 status : FINISHED\n",
      "info :  시계, 시간, 그리고 꿈 status : FINISHED\n",
      "info :  모두, 친절하다 status : FINISHED\n"
     ]
    },
    {
     "name": "stderr",
     "output_type": "stream",
     "text": [
      " 34%|███▍      | 22/64 [00:05<00:11,  3.81it/s]"
     ]
    },
    {
     "name": "stdout",
     "output_type": "stream",
     "text": [
      "info :  핀란드식 습식 사우나 status : FINISHED\n"
     ]
    },
    {
     "name": "stderr",
     "output_type": "stream",
     "text": [
      " 36%|███▌      | 23/64 [00:05<00:10,  3.85it/s]"
     ]
    },
    {
     "name": "stdout",
     "output_type": "stream",
     "text": [
      "info :  액션의 고향 status : FINISHED\n",
      "info :  藝 status : FINISHED\n",
      "info :  스물두 개의 침대 status : FINISHED\n"
     ]
    },
    {
     "name": "stderr",
     "output_type": "stream",
     "text": [
      " 38%|███▊      | 24/64 [00:06<00:10,  3.95it/s]"
     ]
    },
    {
     "name": "stdout",
     "output_type": "stream",
     "text": [
      "info :  전발 씨 status : FINISHED\n",
      "info :  그레이하운드의 기원 status : FINISHED\n",
      "info :  그만, 뛰어내리다 status : FINISHED\n"
     ]
    },
    {
     "name": "stderr",
     "output_type": "stream",
     "text": [
      " 41%|████      | 26/64 [00:06<00:09,  4.04it/s]"
     ]
    },
    {
     "name": "stdout",
     "output_type": "stream",
     "text": [
      "info :  실꾸리 status : FINISHED\n"
     ]
    },
    {
     "name": "stderr",
     "output_type": "stream",
     "text": [
      " 42%|████▏     | 27/64 [00:06<00:09,  4.05it/s]"
     ]
    },
    {
     "name": "stdout",
     "output_type": "stream",
     "text": [
      "info :  이것이 진짜 ‘레알’이다 status : FINISHED\n",
      "info :  토마토를 끓이는 밤 status : FINISHED\n",
      "info :  [단편소설]평온한 식사 status : FINISHED\n",
      "info :  빙하기 프리버드 status : FINISHED\n"
     ]
    },
    {
     "name": "stderr",
     "output_type": "stream",
     "text": [
      " 44%|████▍     | 28/64 [00:07<00:08,  4.03it/s]"
     ]
    },
    {
     "name": "stdout",
     "output_type": "stream",
     "text": [
      "info :  꽃피는 봄이 오면 status : FINISHED\n",
      "info :  구암의 바다 (제1회) status : FINISHED\n",
      "info :  지구를 지키는 소년 status : FINISHED\n"
     ]
    },
    {
     "name": "stderr",
     "output_type": "stream",
     "text": [
      " 45%|████▌     | 29/64 [00:07<00:08,  4.04it/s]"
     ]
    },
    {
     "name": "stdout",
     "output_type": "stream",
     "text": [
      "info :  K의 그림자 status : FINISHED\n",
      "info :  여름, 빈칸의 냄새 status : FINISHED\n",
      "info :  구암의 바다 (제2회) status : FINISHED\n"
     ]
    },
    {
     "name": "stderr",
     "output_type": "stream",
     "text": [
      " 47%|████▋     | 30/64 [00:07<00:08,  3.78it/s]"
     ]
    },
    {
     "name": "stdout",
     "output_type": "stream",
     "text": [
      "info :  중매 그리고 애프터서비스 status : FINISHED\n",
      "info :  6. 1980년 4월 20일 출생 ~ 2004년 5월 20일 사망 status : FINISHED\n",
      "info :  물고기들 status : FINISHED\n",
      "info :  구암의 바다 (제3회) status : FINISHED\n"
     ]
    },
    {
     "name": "stderr",
     "output_type": "stream",
     "text": [
      " 48%|████▊     | 31/64 [00:07<00:08,  3.80it/s]"
     ]
    },
    {
     "name": "stdout",
     "output_type": "stream",
     "text": [
      "info :  매듭들 status : FINISHED\n",
      "info :  심변론(心辨論 classifying psychological theory)에 대한 마지막 소고 status : FINISHED\n",
      "info :  날마다 방문 status : FINISHED\n",
      "info :  새가게 status : FINISHED\n"
     ]
    },
    {
     "name": "stderr",
     "output_type": "stream",
     "text": [
      " 50%|█████     | 32/64 [00:08<00:08,  3.88it/s]"
     ]
    },
    {
     "name": "stdout",
     "output_type": "stream",
     "text": [
      "info :  [중편연재] 목성에선 피가 더 붉어진다① status : FINISHED\n",
      "info :  표본 status : FINISHED\n",
      "info :  터널과 로켓 status : FINISHED\n",
      "info :  여름의 뼈 1 status : FINISHED\n",
      "info :  모르는 기억 status : FINISHED\n",
      "info :  밤의 환대 status : FINISHED\n",
      "info :  울음터 status : FINISHED\n",
      "info :  부재중 status : FINISHED\n"
     ]
    },
    {
     "name": "stderr",
     "output_type": "stream",
     "text": [
      " 52%|█████▏    | 33/64 [00:08<00:08,  3.85it/s]"
     ]
    },
    {
     "name": "stdout",
     "output_type": "stream",
     "text": [
      "info :  너의 이름 status : FINISHED\n",
      "info :  [중편연재]목성에선 피가 더 붉어진다③ status : FINISHED\n",
      "info :  코스모스 status : FINISHED\n",
      "info :  [중편연재] 목성에선 피가 더 붉어진다② status : FINISHED\n",
      "info :  플루이드 status : FINISHED\n"
     ]
    },
    {
     "name": "stderr",
     "output_type": "stream",
     "text": [
      " 53%|█████▎    | 34/64 [00:08<00:07,  3.95it/s]"
     ]
    },
    {
     "name": "stdout",
     "output_type": "stream",
     "text": [
      "info :  [기획소설_HOTEL⑤] 해피아워 status : FINISHED\n",
      "info :  노래 status : FINISHED\n",
      "info :  그 여자의 세상 status : FINISHED\n",
      "info :  [기획소설_HOTEL④] 코 없는 남자 이야기 status : FINISHED\n",
      "info :  [중편연재]목성에선 피가 더 붉어진다④ status : FINISHED\n"
     ]
    },
    {
     "name": "stderr",
     "output_type": "stream",
     "text": [
      " 55%|█████▍    | 35/64 [00:08<00:07,  3.99it/s]"
     ]
    },
    {
     "name": "stdout",
     "output_type": "stream",
     "text": [
      "info :  층 status : FINISHED\n"
     ]
    },
    {
     "name": "stderr",
     "output_type": "stream",
     "text": [
      " 56%|█████▋    | 36/64 [00:09<00:07,  3.98it/s]"
     ]
    },
    {
     "name": "stdout",
     "output_type": "stream",
     "text": [
      "info :  [중편연재] 외계인② status : FINISHED\n",
      "info :  모두의 내력 status : FINISHED\n",
      "info :  빨대 status : FINISHED\n",
      "info :  [중편연재] 외계인① status : FINISHED\n"
     ]
    },
    {
     "name": "stderr",
     "output_type": "stream",
     "text": [
      " 58%|█████▊    | 37/64 [00:09<00:07,  3.81it/s]"
     ]
    },
    {
     "name": "stdout",
     "output_type": "stream",
     "text": [
      "info :  [단편소설] 씬짜오, 씬짜오 status : FINISHED\n",
      "info :  [중편연재] 외계인 ④ status : FINISHED\n",
      "info :  [중편연재] 외계인 ③ status : FINISHED\n"
     ]
    },
    {
     "name": "stderr",
     "output_type": "stream",
     "text": [
      " 59%|█████▉    | 38/64 [00:09<00:06,  3.92it/s]"
     ]
    },
    {
     "name": "stdout",
     "output_type": "stream",
     "text": [
      "info :  [단편소설] 초상화 이야기 status : FINISHED\n"
     ]
    },
    {
     "name": "stderr",
     "output_type": "stream",
     "text": [
      " 62%|██████▎   | 40/64 [00:10<00:06,  3.93it/s]"
     ]
    },
    {
     "name": "stdout",
     "output_type": "stream",
     "text": [
      "info :  사거리의 불빛 status : FINISHED\n"
     ]
    },
    {
     "name": "stderr",
     "output_type": "stream",
     "text": [
      " 64%|██████▍   | 41/64 [00:10<00:05,  3.94it/s]"
     ]
    },
    {
     "name": "stdout",
     "output_type": "stream",
     "text": [
      "info :  감상 소설 status : FINISHED\n"
     ]
    },
    {
     "name": "stderr",
     "output_type": "stream",
     "text": [
      " 67%|██████▋   | 43/64 [00:10<00:05,  3.87it/s]"
     ]
    },
    {
     "name": "stdout",
     "output_type": "stream",
     "text": [
      "info :  파도 status : FINISHED\n"
     ]
    },
    {
     "name": "stderr",
     "output_type": "stream",
     "text": [
      " 75%|███████▌  | 48/64 [00:12<00:04,  3.88it/s]"
     ]
    },
    {
     "name": "stdout",
     "output_type": "stream",
     "text": [
      "info :  도둑맞은 반지 status : FINISHED\n",
      "info :  마른 익사 status : FINISHED\n"
     ]
    },
    {
     "name": "stderr",
     "output_type": "stream",
     "text": [
      " 77%|███████▋  | 49/64 [00:12<00:03,  3.99it/s]"
     ]
    },
    {
     "name": "stdout",
     "output_type": "stream",
     "text": [
      "info :  없는 순간 status : FINISHED\n",
      "info :  우아한 가족 status : FINISHED\n",
      "info :  우환 status : FINISHED\n",
      "info :  픽 status : FINISHED\n",
      "info :  호텔 해운대 status : FINISHED\n"
     ]
    },
    {
     "name": "stderr",
     "output_type": "stream",
     "text": [
      " 78%|███████▊  | 50/64 [00:12<00:03,  4.00it/s]"
     ]
    },
    {
     "name": "stdout",
     "output_type": "stream",
     "text": [
      "info :  휴거 status : FINISHED\n"
     ]
    },
    {
     "name": "stderr",
     "output_type": "stream",
     "text": [
      " 80%|███████▉  | 51/64 [00:13<00:03,  4.00it/s]"
     ]
    },
    {
     "name": "stdout",
     "output_type": "stream",
     "text": [
      "info :  오늘의 시가 status : FINISHED\n"
     ]
    },
    {
     "name": "stderr",
     "output_type": "stream",
     "text": [
      " 83%|████████▎ | 53/64 [00:13<00:02,  3.84it/s]"
     ]
    },
    {
     "name": "stdout",
     "output_type": "stream",
     "text": [
      "info :  한여름 밤의 꿈 status : FINISHED\n",
      "info :  태풍을 기다리는 저녁 status : FINISHED\n"
     ]
    },
    {
     "name": "stderr",
     "output_type": "stream",
     "text": [
      " 84%|████████▍ | 54/64 [00:13<00:02,  3.92it/s]"
     ]
    },
    {
     "name": "stdout",
     "output_type": "stream",
     "text": [
      "info :  거위와 인육 status : FINISHED\n",
      "info :  굴집 가족 status : FINISHED\n",
      "info :  세 번째 문 status : FINISHED\n",
      "info :  흘러내리는 얼굴 status : FINISHED\n"
     ]
    },
    {
     "name": "stderr",
     "output_type": "stream",
     "text": [
      " 86%|████████▌ | 55/64 [00:14<00:02,  3.93it/s]"
     ]
    },
    {
     "name": "stdout",
     "output_type": "stream",
     "text": [
      "info :  참새 잡기 status : FINISHED\n"
     ]
    },
    {
     "name": "stderr",
     "output_type": "stream",
     "text": [
      " 89%|████████▉ | 57/64 [00:14<00:01,  4.05it/s]"
     ]
    },
    {
     "name": "stdout",
     "output_type": "stream",
     "text": [
      "info :  메리의 집 status : FINISHED\n",
      "info :  귀를 찾아서 status : FINISHED\n"
     ]
    },
    {
     "name": "stderr",
     "output_type": "stream",
     "text": [
      " 91%|█████████ | 58/64 [00:14<00:01,  4.08it/s]"
     ]
    },
    {
     "name": "stdout",
     "output_type": "stream",
     "text": [
      "info :  각자의 사정 status : FINISHED\n"
     ]
    },
    {
     "name": "stderr",
     "output_type": "stream",
     "text": [
      " 94%|█████████▍| 60/64 [00:15<00:00,  4.17it/s]"
     ]
    },
    {
     "name": "stdout",
     "output_type": "stream",
     "text": [
      "info :  임상소설 status : FINISHED\n"
     ]
    },
    {
     "name": "stderr",
     "output_type": "stream",
     "text": [
      "100%|██████████| 64/64 [00:16<00:00,  3.94it/s]\n"
     ]
    }
   ],
   "source": [
    "total = []\n",
    "exception = []\n",
    "\n",
    "for i in tqdm(range(64,0,-1)): \n",
    "    url = f\"https://munjang.or.kr/board.es?mid=a20103000000&bid=0003&nPage={i}\"\n",
    "    plain_text = requests.get(url).text\n",
    "    contents = BeautifulSoup(plain_text,'html.parser')\n",
    "\n",
    "    for c in contents.find_all(\"li\", {\"class\" : \"list_li\"}):\n",
    "        now = dt.datetime.now()\n",
    "        global novels\n",
    "        novels = {}\n",
    "        try: \n",
    "            info = c.find('strong').text.split(\" - \")\n",
    "            novels['title'] = info[1]\n",
    "            novels[\"author\"] = info[0]\n",
    "        except:\n",
    "            exception.extend(info)\n",
    "            novels['title'] = info[0]\n",
    "            novels['author'] = \"None\"\n",
    "            print(\"info : \", info[0] , \"status : FINISHED\")\n",
    "\n",
    "\n",
    "        novels[\"links\"] = \"https://munjang.or.kr\" + c.find(\"a\")[\"href\"]\n",
    "        novels[\"crawling_date\"] = now.strftime(\"%Y-%m-%d %H:%M:%S\")\n",
    "        total.append(novels)\n",
    "        col.insert_one(novels)\n",
    "\n"
   ]
  },
  {
   "cell_type": "code",
   "execution_count": 14,
   "metadata": {},
   "outputs": [
    {
     "data": {
      "text/plain": [
       "254"
      ]
     },
     "execution_count": 14,
     "metadata": {},
     "output_type": "execute_result"
    }
   ],
   "source": [
    "len(exception)"
   ]
  },
  {
   "cell_type": "code",
   "execution_count": 13,
   "metadata": {},
   "outputs": [
    {
     "name": "stdout",
     "output_type": "stream",
     "text": [
      "763\n"
     ]
    }
   ],
   "source": [
    "print(len(total))"
   ]
  },
  {
   "cell_type": "code",
   "execution_count": null,
   "metadata": {},
   "outputs": [],
   "source": []
  }
 ],
 "metadata": {
  "kernelspec": {
   "display_name": "Python 3",
   "language": "python",
   "name": "python3"
  },
  "language_info": {
   "codemirror_mode": {
    "name": "ipython",
    "version": 3
   },
   "file_extension": ".py",
   "mimetype": "text/x-python",
   "name": "python",
   "nbconvert_exporter": "python",
   "pygments_lexer": "ipython3",
   "version": "3.10.6"
  },
  "orig_nbformat": 4
 },
 "nbformat": 4,
 "nbformat_minor": 2
}
