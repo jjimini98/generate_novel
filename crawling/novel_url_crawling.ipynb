{
 "cells": [
  {
   "cell_type": "code",
   "execution_count": 1,
   "metadata": {},
   "outputs": [
    {
     "name": "stderr",
     "output_type": "stream",
     "text": [
      "/home/test/.local/lib/python3.10/site-packages/tqdm/auto.py:21: TqdmWarning: IProgress not found. Please update jupyter and ipywidgets. See https://ipywidgets.readthedocs.io/en/stable/user_install.html\n",
      "  from .autonotebook import tqdm as notebook_tqdm\n"
     ]
    },
    {
     "data": {
      "text/plain": [
       "True"
      ]
     },
     "execution_count": 1,
     "metadata": {},
     "output_type": "execute_result"
    }
   ],
   "source": [
    "import os\n",
    "import datetime as dt\n",
    "import requests\n",
    "from bs4 import BeautifulSoup\n",
    "from tqdm.auto import tqdm \n",
    "from dotenv import load_dotenv\n",
    "import pymongo\n",
    "load_dotenv(verbose=True)"
   ]
  },
  {
   "cell_type": "code",
   "execution_count": 2,
   "metadata": {},
   "outputs": [],
   "source": [
    "IP = os.getenv(\"IP\")\n",
    "PORT = os.getenv(\"PORT\")\n",
    "DATABASE = os.getenv(\"DATABASE\")\n",
    "COL = os.getenv(\"COLLECTION\")"
   ]
  },
  {
   "cell_type": "code",
   "execution_count": 5,
   "metadata": {},
   "outputs": [],
   "source": [
    "conn = pymongo.MongoClient(\"mongodb://{}:{}\".format(IP,PORT))\n",
    "db = conn[DATABASE]\n",
    "col = db[COL]"
   ]
  },
  {
   "cell_type": "code",
   "execution_count": 6,
   "metadata": {},
   "outputs": [
    {
     "name": "stderr",
     "output_type": "stream",
     "text": [
      "100%|██████████| 64/64 [00:17<00:00,  3.75it/s]\n"
     ]
    }
   ],
   "source": [
    "total = []\n",
    "exception = []\n",
    "\n",
    "for i in tqdm(range(64,0,-1)): \n",
    "    url = f\"https://munjang.or.kr/board.es?mid=a20103000000&bid=0003&nPage={i}\"\n",
    "    plain_text = requests.get(url).text\n",
    "    contents = BeautifulSoup(plain_text,'html.parser')\n",
    "    for c in contents.find_all(\"li\", {\"class\" : \"list_li\"}):\n",
    "        now = dt.datetime.now()\n",
    "        global novels\n",
    "        novels = {}\n",
    "        try: \n",
    "            info = c.find('strong').text.split(\" - \")\n",
    "            novels['title'] = info[1]\n",
    "            novels[\"author\"] = info[0]\n",
    "            novels[\"links\"] = \"https://munjang.or.kr\" + c.find(\"a\")[\"href\"]\n",
    "            novels[\"crawling_date\"] = now.strftime(\"%Y-%m-%d %H:%M:%S\")\n",
    "            total.append(novels)\n",
    "            col.insert_one(novels)\n",
    "        except:\n",
    "            exception.extend(info)\n"
   ]
  },
  {
   "cell_type": "code",
   "execution_count": 8,
   "metadata": {},
   "outputs": [
    {
     "data": {
      "text/plain": [
       "['meta']"
      ]
     },
     "execution_count": 8,
     "metadata": {},
     "output_type": "execute_result"
    }
   ],
   "source": [
    "db.list_collection_names()"
   ]
  },
  {
   "cell_type": "code",
   "execution_count": null,
   "metadata": {},
   "outputs": [],
   "source": []
  }
 ],
 "metadata": {
  "kernelspec": {
   "display_name": "Python 3",
   "language": "python",
   "name": "python3"
  },
  "language_info": {
   "codemirror_mode": {
    "name": "ipython",
    "version": 3
   },
   "file_extension": ".py",
   "mimetype": "text/x-python",
   "name": "python",
   "nbconvert_exporter": "python",
   "pygments_lexer": "ipython3",
   "version": "3.10.6"
  },
  "orig_nbformat": 4
 },
 "nbformat": 4,
 "nbformat_minor": 2
}
